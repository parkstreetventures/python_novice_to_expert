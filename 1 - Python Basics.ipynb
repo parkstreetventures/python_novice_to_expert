{
 "cells": [
  {
   "cell_type": "markdown",
   "id": "d5b5e682",
   "metadata": {},
   "source": [
    "# Basics"
   ]
  },
  {
   "cell_type": "code",
   "execution_count": 4,
   "id": "8883391c",
   "metadata": {},
   "outputs": [
    {
     "name": "stdout",
     "output_type": "stream",
     "text": [
      "Hello World!\n"
     ]
    }
   ],
   "source": [
    "# let us print the hello world!\n",
    "print (\"Hello World!\")"
   ]
  },
  {
   "cell_type": "code",
   "execution_count": 5,
   "id": "27dbf8eb",
   "metadata": {},
   "outputs": [
    {
     "name": "stdout",
     "output_type": "stream",
     "text": [
      "Hello World!\n"
     ]
    }
   ],
   "source": [
    "# here we create a variable of type string\n",
    "my_var = \"Hello World!\"\n",
    "print(my_var)"
   ]
  },
  {
   "cell_type": "code",
   "execution_count": 6,
   "id": "67247e73",
   "metadata": {},
   "outputs": [
    {
     "data": {
      "text/plain": [
       "str"
      ]
     },
     "execution_count": 6,
     "metadata": {},
     "output_type": "execute_result"
    }
   ],
   "source": [
    "# find the type of the variable that we created earlier\n",
    "# it should str i.e string\n",
    "type(my_var)"
   ]
  },
  {
   "cell_type": "code",
   "execution_count": 8,
   "id": "0a7613b2",
   "metadata": {},
   "outputs": [
    {
     "name": "stdout",
     "output_type": "stream",
     "text": [
      "110\n",
      "1000.0\n",
      "John\n"
     ]
    }
   ],
   "source": [
    "# other types of variables\n",
    "\n",
    "counter = 110          # An integer assignment\n",
    "dollars   = 1000.00    # A floating point\n",
    "name    = \"John\"       # A string\n",
    "\n",
    "print (counter)\n",
    "print (dollars)\n",
    "print (name)"
   ]
  },
  {
   "cell_type": "markdown",
   "id": "426695b2",
   "metadata": {},
   "source": [
    "Python has five standard data types −\n",
    "\n",
    "-Numbers\n",
    "\n",
    "-String\n",
    "\n",
    "-List\n",
    "\n",
    "-Tuple\n",
    "\n",
    "-Dictionary\n",
    "\n",
    "# Lists"
   ]
  },
  {
   "cell_type": "code",
   "execution_count": 10,
   "id": "3352ee99",
   "metadata": {},
   "outputs": [
    {
     "name": "stdout",
     "output_type": "stream",
     "text": [
      "[1, 786, 2.23, 45, 70.2]\n",
      "1\n",
      "[786, 2.23]\n"
     ]
    }
   ],
   "source": [
    "my_list = [ 1, 786 , 2.23, 45, 70.2 ]\n",
    "\n",
    "print (my_list)          # Prints complete list\n",
    "print (my_list[0])       # Prints first element of the list\n",
    "print (my_list[1:3])     # Prints elements starting from 2nd till 3rd "
   ]
  },
  {
   "cell_type": "markdown",
   "id": "81e055b1",
   "metadata": {},
   "source": [
    "# Tuples"
   ]
  },
  {
   "cell_type": "code",
   "execution_count": 11,
   "id": "5f98d024",
   "metadata": {},
   "outputs": [
    {
     "name": "stdout",
     "output_type": "stream",
     "text": [
      "('abcd', 786, 2.23, 'john', 70.2)\n",
      "abcd\n",
      "(786, 2.23)\n",
      "(2.23, 'john', 70.2)\n"
     ]
    }
   ],
   "source": [
    "my_tuple = ( 'abcd', 786 , 2.23, 'john', 70.2  )\n",
    "\n",
    "print (my_tuple)             # Prints the complete tuple\n",
    "print (my_tuple[0])          # Prints first element of the tuple\n",
    "print (my_tuple[1:3])        # Prints elements of the tuple starting from 2nd till 3rd \n",
    "print (my_tuple[2:] )        # Prints elements of the tuple starting from 3rd element"
   ]
  },
  {
   "cell_type": "markdown",
   "id": "d0bd8a17",
   "metadata": {},
   "source": [
    "The main differences between lists and tuples are: Lists are enclosed in brackets ( [ ] ) and their elements and size can be changed, while tuples are enclosed in parentheses ( ( ) ) and cannot be updated. Tuples can be thought of as read-only lists."
   ]
  },
  {
   "cell_type": "markdown",
   "id": "cc7938ea",
   "metadata": {},
   "source": [
    "# Dictionary"
   ]
  },
  {
   "cell_type": "code",
   "execution_count": 12,
   "id": "a62cacc7",
   "metadata": {},
   "outputs": [
    {
     "name": "stdout",
     "output_type": "stream",
     "text": [
      "{'name': 'john', 'code': 6734, 'dept': 'sales'}\n",
      "dict_keys(['name', 'code', 'dept'])\n",
      "dict_values(['john', 6734, 'sales'])\n"
     ]
    }
   ],
   "source": [
    "my_dict = {'name': 'john','code':6734, 'dept': 'sales'}\n",
    "\n",
    "print (my_dict )         # Prints complete dictionary\n",
    "print (my_dict.keys())   # Prints all the keys\n",
    "print (my_dict.values()) # Prints all the values"
   ]
  },
  {
   "cell_type": "code",
   "execution_count": null,
   "id": "cd20603d",
   "metadata": {},
   "outputs": [],
   "source": []
  }
 ],
 "metadata": {
  "kernelspec": {
   "display_name": "Python 3",
   "language": "python",
   "name": "python3"
  },
  "language_info": {
   "codemirror_mode": {
    "name": "ipython",
    "version": 3
   },
   "file_extension": ".py",
   "mimetype": "text/x-python",
   "name": "python",
   "nbconvert_exporter": "python",
   "pygments_lexer": "ipython3",
   "version": "3.7.10"
  }
 },
 "nbformat": 4,
 "nbformat_minor": 5
}
