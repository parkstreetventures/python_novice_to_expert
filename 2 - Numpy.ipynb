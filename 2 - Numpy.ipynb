{
 "cells": [
  {
   "cell_type": "markdown",
   "id": "9a9a5a31",
   "metadata": {},
   "source": [
    "# Numpy\n",
    "\n",
    "Numpy is the core library for scientific computing in Python. It provides a high-performance multidimensional array object, and tools for working with these arrays."
   ]
  },
  {
   "cell_type": "code",
   "execution_count": 1,
   "id": "b3621a80",
   "metadata": {},
   "outputs": [],
   "source": [
    "import numpy as np"
   ]
  },
  {
   "cell_type": "code",
   "execution_count": 5,
   "id": "6ce7c410",
   "metadata": {},
   "outputs": [
    {
     "name": "stdout",
     "output_type": "stream",
     "text": [
      "<class 'numpy.ndarray'>\n",
      "(3,)\n",
      "1 2 3\n",
      "[5 2 3]\n",
      "(2, 3)\n",
      "1 2 4\n"
     ]
    }
   ],
   "source": [
    "# Create a rank 1 array\n",
    "a = np.array([1, 2, 3])   \n",
    "\n",
    "print(type(a))            \n",
    "print(a.shape)           \n",
    "print(a[0], a[1], a[2])   \n",
    "\n",
    "# Change an element of the array\n",
    "a[0] = 5                  \n",
    "print(a)                  \n",
    "\n",
    "# Create a rank 2 array\n",
    "b = np.array([[1,2,3],[4,5,6]])    \n",
    "print(b.shape)                     \n",
    "print(b[0, 0], b[0, 1], b[1, 0])  "
   ]
  },
  {
   "cell_type": "code",
   "execution_count": 4,
   "id": "07c2df67",
   "metadata": {},
   "outputs": [
    {
     "name": "stdout",
     "output_type": "stream",
     "text": [
      "[[0. 0.]\n",
      " [0. 0.]]\n",
      "[[1. 1.]]\n",
      "[[7 7]\n",
      " [7 7]]\n",
      "[[1. 0.]\n",
      " [0. 1.]]\n",
      "[[0.23055208 0.86751014]\n",
      " [0.72169703 0.41217041]]\n"
     ]
    }
   ],
   "source": [
    "# Create an array of all zeros\n",
    "a = np.zeros((2,2))   \n",
    "print(a)              \n",
    "\n",
    "# Create an array of all ones\n",
    "b = np.ones((1,2))    \n",
    "print(b)              \n",
    "\n",
    "# Create a constant array\n",
    "c = np.full((2,2), 7)  \n",
    "print(c)               \n",
    "\n",
    "# Create a 2x2 identity matrix\n",
    "d = np.eye(2)         \n",
    "print(d)              \n",
    "\n",
    "# Create an array filled with random values\n",
    "e = np.random.random((2,2))  \n",
    "print(e)       "
   ]
  },
  {
   "cell_type": "code",
   "execution_count": null,
   "id": "e7f49881",
   "metadata": {},
   "outputs": [],
   "source": []
  }
 ],
 "metadata": {
  "kernelspec": {
   "display_name": "Python 3",
   "language": "python",
   "name": "python3"
  },
  "language_info": {
   "codemirror_mode": {
    "name": "ipython",
    "version": 3
   },
   "file_extension": ".py",
   "mimetype": "text/x-python",
   "name": "python",
   "nbconvert_exporter": "python",
   "pygments_lexer": "ipython3",
   "version": "3.7.10"
  }
 },
 "nbformat": 4,
 "nbformat_minor": 5
}
